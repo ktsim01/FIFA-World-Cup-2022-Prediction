{
  "nbformat": 4,
  "nbformat_minor": 0,
  "metadata": {
    "colab": {
      "name": "World Cup 2022 Prediction.ipynb",
      "provenance": [],
      "authorship_tag": "ABX9TyN7IJgEl35f/dTv4u7d8S+S",
      "include_colab_link": true
    },
    "kernelspec": {
      "name": "python3",
      "display_name": "Python 3"
    },
    "language_info": {
      "name": "python"
    }
  },
  "cells": [
    {
      "cell_type": "markdown",
      "metadata": {
        "id": "view-in-github",
        "colab_type": "text"
      },
      "source": [
        "<a href=\"https://colab.research.google.com/github/ktsim01/FIFA-World-Cup-2022-Prediction/blob/main/World_Cup_2022_Prediction.ipynb\" target=\"_parent\"><img src=\"https://colab.research.google.com/assets/colab-badge.svg\" alt=\"Open In Colab\"/></a>"
      ]
    },
    {
      "cell_type": "code",
      "execution_count": null,
      "metadata": {
        "id": "n55DgPN_o0DB"
      },
      "outputs": [],
      "source": [
        ""
      ]
    }
  ]
}